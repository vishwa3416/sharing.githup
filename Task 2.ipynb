{
 "cells": [
  {
   "cell_type": "markdown",
   "metadata": {
    "papermill": {
     "duration": 0.016954,
     "end_time": "2021-03-06T12:41:45.546533",
     "exception": false,
     "start_time": "2021-03-06T12:41:45.529579",
     "status": "completed"
    },
    "tags": []
   },
   "source": [
    "**Name:** vishva patel\n",
    "\n",
    "status: intern\n",
    "\n",
    "organization: the sparks foundation\n",
    "\n",
    "**## Unsupervised Machine Learning - Clustering(Iris DataSet):**\n",
    "\n",
    "Task 2:To predict the optimum number of clusters and represent it visually for the given Iris data set."
   ]
  },
  {
   "cell_type": "markdown",
   "metadata": {
    "papermill": {
     "duration": 0.015534,
     "end_time": "2021-03-06T12:41:45.578130",
     "exception": false,
     "start_time": "2021-03-06T12:41:45.562596",
     "status": "completed"
    },
    "tags": []
   },
   "source": [
    "****STEP- 1"
   ]
  },
  {
   "cell_type": "code",
   "execution_count": 1,
   "metadata": {
    "execution": {
     "iopub.execute_input": "2021-03-06T12:41:45.614001Z",
     "iopub.status.busy": "2021-03-06T12:41:45.613023Z",
     "iopub.status.idle": "2021-03-06T12:41:46.946168Z",
     "shell.execute_reply": "2021-03-06T12:41:46.945482Z"
    },
    "papermill": {
     "duration": 1.352253,
     "end_time": "2021-03-06T12:41:46.946309",
     "exception": false,
     "start_time": "2021-03-06T12:41:45.594056",
     "status": "completed"
    },
    "tags": []
   },
   "outputs": [],
   "source": [
    "# Importing the libraries\n",
    "from sklearn import datasets\n",
    "import matplotlib.pyplot as plt \n",
    "import pandas as pd\n",
    "import numpy as np\n",
    "from sklearn.cluster import KMeans\n",
    "import matplotlib.patches as mpatches\n",
    "import sklearn.metrics as sm \n",
    "from mpl_toolkits.mplot3d import Axes3D\n",
    "from scipy.cluster.hierarchy import linkage,dendrogram\n",
    "from sklearn.cluster import DBSCAN\n",
    "from sklearn.decomposition import PCA\n"
   ]
  },
  {
   "cell_type": "markdown",
   "metadata": {
    "papermill": {
     "duration": 0.016479,
     "end_time": "2021-03-06T12:41:46.979343",
     "exception": false,
     "start_time": "2021-03-06T12:41:46.962864",
     "status": "completed"
    },
    "tags": []
   },
   "source": [
    "#Step -: 1 - Loading the dataset"
   ]
  },
  {
   "cell_type": "code",
   "execution_count": 2,
   "metadata": {
    "execution": {
     "iopub.execute_input": "2021-03-06T12:41:47.018256Z",
     "iopub.status.busy": "2021-03-06T12:41:47.017316Z",
     "iopub.status.idle": "2021-03-06T12:41:47.036524Z",
     "shell.execute_reply": "2021-03-06T12:41:47.035967Z"
    },
    "papermill": {
     "duration": 0.041263,
     "end_time": "2021-03-06T12:41:47.036636",
     "exception": false,
     "start_time": "2021-03-06T12:41:46.995373",
     "status": "completed"
    },
    "tags": []
   },
   "outputs": [
    {
     "name": "stdout",
     "output_type": "stream",
     "text": [
      "[[5.1 3.5 1.4 0.2]\n",
      " [4.9 3.  1.4 0.2]\n",
      " [4.7 3.2 1.3 0.2]\n",
      " [4.6 3.1 1.5 0.2]\n",
      " [5.  3.6 1.4 0.2]\n",
      " [5.4 3.9 1.7 0.4]\n",
      " [4.6 3.4 1.4 0.3]\n",
      " [5.  3.4 1.5 0.2]\n",
      " [4.4 2.9 1.4 0.2]\n",
      " [4.9 3.1 1.5 0.1]\n",
      " [5.4 3.7 1.5 0.2]\n",
      " [4.8 3.4 1.6 0.2]\n",
      " [4.8 3.  1.4 0.1]\n",
      " [4.3 3.  1.1 0.1]\n",
      " [5.8 4.  1.2 0.2]\n",
      " [5.7 4.4 1.5 0.4]\n",
      " [5.4 3.9 1.3 0.4]\n",
      " [5.1 3.5 1.4 0.3]\n",
      " [5.7 3.8 1.7 0.3]\n",
      " [5.1 3.8 1.5 0.3]\n",
      " [5.4 3.4 1.7 0.2]\n",
      " [5.1 3.7 1.5 0.4]\n",
      " [4.6 3.6 1.  0.2]\n",
      " [5.1 3.3 1.7 0.5]\n",
      " [4.8 3.4 1.9 0.2]\n",
      " [5.  3.  1.6 0.2]\n",
      " [5.  3.4 1.6 0.4]\n",
      " [5.2 3.5 1.5 0.2]\n",
      " [5.2 3.4 1.4 0.2]\n",
      " [4.7 3.2 1.6 0.2]\n",
      " [4.8 3.1 1.6 0.2]\n",
      " [5.4 3.4 1.5 0.4]\n",
      " [5.2 4.1 1.5 0.1]\n",
      " [5.5 4.2 1.4 0.2]\n",
      " [4.9 3.1 1.5 0.2]\n",
      " [5.  3.2 1.2 0.2]\n",
      " [5.5 3.5 1.3 0.2]\n",
      " [4.9 3.6 1.4 0.1]\n",
      " [4.4 3.  1.3 0.2]\n",
      " [5.1 3.4 1.5 0.2]\n",
      " [5.  3.5 1.3 0.3]\n",
      " [4.5 2.3 1.3 0.3]\n",
      " [4.4 3.2 1.3 0.2]\n",
      " [5.  3.5 1.6 0.6]\n",
      " [5.1 3.8 1.9 0.4]\n",
      " [4.8 3.  1.4 0.3]\n",
      " [5.1 3.8 1.6 0.2]\n",
      " [4.6 3.2 1.4 0.2]\n",
      " [5.3 3.7 1.5 0.2]\n",
      " [5.  3.3 1.4 0.2]\n",
      " [7.  3.2 4.7 1.4]\n",
      " [6.4 3.2 4.5 1.5]\n",
      " [6.9 3.1 4.9 1.5]\n",
      " [5.5 2.3 4.  1.3]\n",
      " [6.5 2.8 4.6 1.5]\n",
      " [5.7 2.8 4.5 1.3]\n",
      " [6.3 3.3 4.7 1.6]\n",
      " [4.9 2.4 3.3 1. ]\n",
      " [6.6 2.9 4.6 1.3]\n",
      " [5.2 2.7 3.9 1.4]\n",
      " [5.  2.  3.5 1. ]\n",
      " [5.9 3.  4.2 1.5]\n",
      " [6.  2.2 4.  1. ]\n",
      " [6.1 2.9 4.7 1.4]\n",
      " [5.6 2.9 3.6 1.3]\n",
      " [6.7 3.1 4.4 1.4]\n",
      " [5.6 3.  4.5 1.5]\n",
      " [5.8 2.7 4.1 1. ]\n",
      " [6.2 2.2 4.5 1.5]\n",
      " [5.6 2.5 3.9 1.1]\n",
      " [5.9 3.2 4.8 1.8]\n",
      " [6.1 2.8 4.  1.3]\n",
      " [6.3 2.5 4.9 1.5]\n",
      " [6.1 2.8 4.7 1.2]\n",
      " [6.4 2.9 4.3 1.3]\n",
      " [6.6 3.  4.4 1.4]\n",
      " [6.8 2.8 4.8 1.4]\n",
      " [6.7 3.  5.  1.7]\n",
      " [6.  2.9 4.5 1.5]\n",
      " [5.7 2.6 3.5 1. ]\n",
      " [5.5 2.4 3.8 1.1]\n",
      " [5.5 2.4 3.7 1. ]\n",
      " [5.8 2.7 3.9 1.2]\n",
      " [6.  2.7 5.1 1.6]\n",
      " [5.4 3.  4.5 1.5]\n",
      " [6.  3.4 4.5 1.6]\n",
      " [6.7 3.1 4.7 1.5]\n",
      " [6.3 2.3 4.4 1.3]\n",
      " [5.6 3.  4.1 1.3]\n",
      " [5.5 2.5 4.  1.3]\n",
      " [5.5 2.6 4.4 1.2]\n",
      " [6.1 3.  4.6 1.4]\n",
      " [5.8 2.6 4.  1.2]\n",
      " [5.  2.3 3.3 1. ]\n",
      " [5.6 2.7 4.2 1.3]\n",
      " [5.7 3.  4.2 1.2]\n",
      " [5.7 2.9 4.2 1.3]\n",
      " [6.2 2.9 4.3 1.3]\n",
      " [5.1 2.5 3.  1.1]\n",
      " [5.7 2.8 4.1 1.3]\n",
      " [6.3 3.3 6.  2.5]\n",
      " [5.8 2.7 5.1 1.9]\n",
      " [7.1 3.  5.9 2.1]\n",
      " [6.3 2.9 5.6 1.8]\n",
      " [6.5 3.  5.8 2.2]\n",
      " [7.6 3.  6.6 2.1]\n",
      " [4.9 2.5 4.5 1.7]\n",
      " [7.3 2.9 6.3 1.8]\n",
      " [6.7 2.5 5.8 1.8]\n",
      " [7.2 3.6 6.1 2.5]\n",
      " [6.5 3.2 5.1 2. ]\n",
      " [6.4 2.7 5.3 1.9]\n",
      " [6.8 3.  5.5 2.1]\n",
      " [5.7 2.5 5.  2. ]\n",
      " [5.8 2.8 5.1 2.4]\n",
      " [6.4 3.2 5.3 2.3]\n",
      " [6.5 3.  5.5 1.8]\n",
      " [7.7 3.8 6.7 2.2]\n",
      " [7.7 2.6 6.9 2.3]\n",
      " [6.  2.2 5.  1.5]\n",
      " [6.9 3.2 5.7 2.3]\n",
      " [5.6 2.8 4.9 2. ]\n",
      " [7.7 2.8 6.7 2. ]\n",
      " [6.3 2.7 4.9 1.8]\n",
      " [6.7 3.3 5.7 2.1]\n",
      " [7.2 3.2 6.  1.8]\n",
      " [6.2 2.8 4.8 1.8]\n",
      " [6.1 3.  4.9 1.8]\n",
      " [6.4 2.8 5.6 2.1]\n",
      " [7.2 3.  5.8 1.6]\n",
      " [7.4 2.8 6.1 1.9]\n",
      " [7.9 3.8 6.4 2. ]\n",
      " [6.4 2.8 5.6 2.2]\n",
      " [6.3 2.8 5.1 1.5]\n",
      " [6.1 2.6 5.6 1.4]\n",
      " [7.7 3.  6.1 2.3]\n",
      " [6.3 3.4 5.6 2.4]\n",
      " [6.4 3.1 5.5 1.8]\n",
      " [6.  3.  4.8 1.8]\n",
      " [6.9 3.1 5.4 2.1]\n",
      " [6.7 3.1 5.6 2.4]\n",
      " [6.9 3.1 5.1 2.3]\n",
      " [5.8 2.7 5.1 1.9]\n",
      " [6.8 3.2 5.9 2.3]\n",
      " [6.7 3.3 5.7 2.5]\n",
      " [6.7 3.  5.2 2.3]\n",
      " [6.3 2.5 5.  1.9]\n",
      " [6.5 3.  5.2 2. ]\n",
      " [6.2 3.4 5.4 2.3]\n",
      " [5.9 3.  5.1 1.8]]\n"
     ]
    }
   ],
   "source": [
    "iris = datasets.load_iris()\n",
    "print(iris.data)"
   ]
  },
  {
   "cell_type": "code",
   "execution_count": 3,
   "metadata": {
    "execution": {
     "iopub.execute_input": "2021-03-06T12:41:47.076781Z",
     "iopub.status.busy": "2021-03-06T12:41:47.076068Z",
     "iopub.status.idle": "2021-03-06T12:41:47.082116Z",
     "shell.execute_reply": "2021-03-06T12:41:47.082612Z"
    },
    "papermill": {
     "duration": 0.028417,
     "end_time": "2021-03-06T12:41:47.082773",
     "exception": false,
     "start_time": "2021-03-06T12:41:47.054356",
     "status": "completed"
    },
    "tags": []
   },
   "outputs": [
    {
     "name": "stdout",
     "output_type": "stream",
     "text": [
      "['setosa' 'versicolor' 'virginica']\n"
     ]
    }
   ],
   "source": [
    "print(iris.target_names)"
   ]
  },
  {
   "cell_type": "code",
   "execution_count": 4,
   "metadata": {
    "execution": {
     "iopub.execute_input": "2021-03-06T12:41:47.130621Z",
     "iopub.status.busy": "2021-03-06T12:41:47.129708Z",
     "iopub.status.idle": "2021-03-06T12:41:47.133985Z",
     "shell.execute_reply": "2021-03-06T12:41:47.134554Z"
    },
    "papermill": {
     "duration": 0.030266,
     "end_time": "2021-03-06T12:41:47.134698",
     "exception": false,
     "start_time": "2021-03-06T12:41:47.104432",
     "status": "completed"
    },
    "tags": []
   },
   "outputs": [
    {
     "name": "stdout",
     "output_type": "stream",
     "text": [
      "[0 0 0 0 0 0 0 0 0 0 0 0 0 0 0 0 0 0 0 0 0 0 0 0 0 0 0 0 0 0 0 0 0 0 0 0 0\n",
      " 0 0 0 0 0 0 0 0 0 0 0 0 0 1 1 1 1 1 1 1 1 1 1 1 1 1 1 1 1 1 1 1 1 1 1 1 1\n",
      " 1 1 1 1 1 1 1 1 1 1 1 1 1 1 1 1 1 1 1 1 1 1 1 1 1 1 2 2 2 2 2 2 2 2 2 2 2\n",
      " 2 2 2 2 2 2 2 2 2 2 2 2 2 2 2 2 2 2 2 2 2 2 2 2 2 2 2 2 2 2 2 2 2 2 2 2 2\n",
      " 2 2]\n"
     ]
    }
   ],
   "source": [
    "print(iris.target)"
   ]
  },
  {
   "cell_type": "code",
   "execution_count": 5,
   "metadata": {
    "execution": {
     "iopub.execute_input": "2021-03-06T12:41:47.176786Z",
     "iopub.status.busy": "2021-03-06T12:41:47.176037Z",
     "iopub.status.idle": "2021-03-06T12:41:47.181564Z",
     "shell.execute_reply": "2021-03-06T12:41:47.180878Z"
    },
    "papermill": {
     "duration": 0.028639,
     "end_time": "2021-03-06T12:41:47.181675",
     "exception": false,
     "start_time": "2021-03-06T12:41:47.153036",
     "status": "completed"
    },
    "tags": []
   },
   "outputs": [],
   "source": [
    "x = iris.data\n",
    "y = iris.target"
   ]
  },
  {
   "cell_type": "markdown",
   "metadata": {
    "papermill": {
     "duration": 0.017324,
     "end_time": "2021-03-06T12:41:47.216537",
     "exception": false,
     "start_time": "2021-03-06T12:41:47.199213",
     "status": "completed"
    },
    "tags": []
   },
   "source": [
    "#Step -: 2 - Visualizing the input data and its Hierarchy"
   ]
  },
  {
   "cell_type": "code",
   "execution_count": 6,
   "metadata": {
    "execution": {
     "iopub.execute_input": "2021-03-06T12:41:47.261010Z",
     "iopub.status.busy": "2021-03-06T12:41:47.260231Z",
     "iopub.status.idle": "2021-03-06T12:41:47.491801Z",
     "shell.execute_reply": "2021-03-06T12:41:47.492415Z"
    },
    "papermill": {
     "duration": 0.258289,
     "end_time": "2021-03-06T12:41:47.492592",
     "exception": false,
     "start_time": "2021-03-06T12:41:47.234303",
     "status": "completed"
    },
    "tags": []
   },
   "outputs": [
    {
     "data": {
      "image/png": "[encoded data removed]",
      "text/plain": [
       "<Figure size 504x360 with 1 Axes>"
      ]
     },
     "metadata": {
      "needs_background": "light"
     },
     "output_type": "display_data"
    }
   ],
   "source": [
    "#Plotting\n",
    "fig = plt.figure(1,figsize=(7,5))\n",
    "ax = Axes3D(fig , rect=[0,0,0.95,1], elev=48, azim=134)\n",
    "ax.scatter(x[:,3], x[:,0], x[:,2], edgecolor=\"k\", s=50)\n",
    "ax.set_xlabel(\"Petal width\")\n",
    "ax.set_ylabel(\"Sepal length\")\n",
    "ax.set_zlabel(\"Petal length\")\n",
    "plt.title(\"Iris Clustering K Means=3\", fontsize=14)\n",
    "plt.show()"
   ]
  },
  {
   "cell_type": "code",
   "execution_count": 7,
   "metadata": {
    "execution": {
     "iopub.execute_input": "2021-03-06T12:41:47.545093Z",
     "iopub.status.busy": "2021-03-06T12:41:47.544347Z",
     "iopub.status.idle": "2021-03-06T12:41:48.403361Z",
     "shell.execute_reply": "2021-03-06T12:41:48.402615Z"
    },
    "papermill": {
     "duration": 0.888887,
     "end_time": "2021-03-06T12:41:48.403492",
     "exception": false,
     "start_time": "2021-03-06T12:41:47.514605",
     "status": "completed"
    },
    "tags": []
   },
   "outputs": [
    {
     "data": {
      "image/png": "[encoded data removed]",
      "text/plain": [
       "<Figure size 1080x576 with 1 Axes>"
      ]
     },
     "metadata": {
      "needs_background": "light"
     },
     "output_type": "display_data"
    }
   ],
   "source": [
    "#Hierarchy Clustering\n",
    "hier=linkage(x,\"ward\")\n",
    "max_d=7.08\n",
    "plt.figure(figsize=(15,8))\n",
    "plt.title(\"Iris Hierarchical Clustering Dendrogram\")\n",
    "plt.xlabel(\"Species\")\n",
    "plt.ylabel(\"distance\")\n",
    "dendrogram(\n",
    "        hier,\n",
    "        truncate_mode='lastp',\n",
    "        p = 50,\n",
    "        leaf_rotation=90.,\n",
    "        leaf_font_size=8.,\n",
    ")\n",
    "plt.axhline(y=max_d,c='k')\n",
    "plt.show()\n"
   ]
  },
  {
   "cell_type": "markdown",
   "metadata": {
    "papermill": {
     "duration": 0.022145,
     "end_time": "2021-03-06T12:41:48.447730",
     "exception": false,
     "start_time": "2021-03-06T12:41:48.425585",
     "status": "completed"
    },
    "tags": []
   },
   "source": [
    "Step -: 3 - Data Preprocessing"
   ]
  },
  {
   "cell_type": "code",
   "execution_count": 8,
   "metadata": {
    "execution": {
     "iopub.execute_input": "2021-03-06T12:41:48.501724Z",
     "iopub.status.busy": "2021-03-06T12:41:48.500812Z",
     "iopub.status.idle": "2021-03-06T12:41:48.504676Z",
     "shell.execute_reply": "2021-03-06T12:41:48.504085Z"
    },
    "papermill": {
     "duration": 0.033835,
     "end_time": "2021-03-06T12:41:48.504815",
     "exception": false,
     "start_time": "2021-03-06T12:41:48.470980",
     "status": "completed"
    },
    "tags": []
   },
   "outputs": [],
   "source": [
    "x = pd.DataFrame(iris.data, columns=['Sepal length','Sepal width','Petal length','Petal width'])\n",
    "y = pd.DataFrame(iris.target,columns=['Target'])\n"
   ]
  },
  {
   "cell_type": "code",
   "execution_count": 9,
   "metadata": {
    "execution": {
     "iopub.execute_input": "2021-03-06T12:41:48.561599Z",
     "iopub.status.busy": "2021-03-06T12:41:48.560822Z",
     "iopub.status.idle": "2021-03-06T12:41:48.650265Z",
     "shell.execute_reply": "2021-03-06T12:41:48.650840Z"
    },
    "papermill": {
     "duration": 0.123852,
     "end_time": "2021-03-06T12:41:48.651046",
     "exception": false,
     "start_time": "2021-03-06T12:41:48.527194",
     "status": "completed"
    },
    "tags": []
   },
   "outputs": [
    {
     "data": {
      "text/html": [
       "<div>\n",
       "<style scoped>\n",
       "    .dataframe tbody tr th:only-of-type {\n",
       "        vertical-align: middle;\n",
       "    }\n",
       "\n",
       "    .dataframe tbody tr th {\n",
       "        vertical-align: top;\n",
       "    }\n",
       "\n",
       "    .dataframe thead th {\n",
       "        text-align: right;\n",
       "    }\n",
       "</style>\n",
       "<table border=\"1\" class=\"dataframe\">\n",
       "  <thead>\n",
       "    <tr style=\"text-align: right;\">\n",
       "      <th></th>\n",
       "      <th>Sepal length</th>\n",
       "      <th>Sepal width</th>\n",
       "      <th>Petal length</th>\n",
       "      <th>Petal width</th>\n",
       "    </tr>\n",
       "  </thead>\n",
       "  <tbody>\n",
       "    <tr>\n",
       "      <th>0</th>\n",
       "      <td>5.1</td>\n",
       "      <td>3.5</td>\n",
       "      <td>1.4</td>\n",
       "      <td>0.2</td>\n",
       "    </tr>\n",
       "    <tr>\n",
       "      <th>1</th>\n",
       "      <td>4.9</td>\n",
       "      <td>3.0</td>\n",
       "      <td>1.4</td>\n",
       "      <td>0.2</td>\n",
       "    </tr>\n",
       "    <tr>\n",
       "      <th>2</th>\n",
       "      <td>4.7</td>\n",
       "      <td>3.2</td>\n",
       "      <td>1.3</td>\n",
       "      <td>0.2</td>\n",
       "    </tr>\n",
       "    <tr>\n",
       "      <th>3</th>\n",
       "      <td>4.6</td>\n",
       "      <td>3.1</td>\n",
       "      <td>1.5</td>\n",
       "      <td>0.2</td>\n",
       "    </tr>\n",
       "    <tr>\n",
       "      <th>4</th>\n",
       "      <td>5.0</td>\n",
       "      <td>3.6</td>\n",
       "      <td>1.4</td>\n",
       "      <td>0.2</td>\n",
       "    </tr>\n",
       "  </tbody>\n",
       "</table>\n",
       "</div>"
      ],
      "text/plain": [
       "   Sepal length  Sepal width  Petal length  Petal width\n",
       "0           5.1          3.5           1.4          0.2\n",
       "1           4.9          3.0           1.4          0.2\n",
       "2           4.7          3.2           1.3          0.2\n",
       "3           4.6          3.1           1.5          0.2\n",
       "4           5.0          3.6           1.4          0.2"
      ]
     },
     "execution_count": 9,
     "metadata": {},
     "output_type": "execute_result"
    }
   ],
   "source": [
    "\n",
    "x.head()"
   ]
  },
  {
   "cell_type": "code",
   "execution_count": 10,
   "metadata": {
    "execution": {
     "iopub.execute_input": "2021-03-06T12:41:48.706459Z",
     "iopub.status.busy": "2021-03-06T12:41:48.705310Z",
     "iopub.status.idle": "2021-03-06T12:41:48.709816Z",
     "shell.execute_reply": "2021-03-06T12:41:48.709307Z"
    },
    "papermill": {
     "duration": 0.035849,
     "end_time": "2021-03-06T12:41:48.709972",
     "exception": false,
     "start_time": "2021-03-06T12:41:48.674123",
     "status": "completed"
    },
    "tags": []
   },
   "outputs": [
    {
     "data": {
      "text/html": [
       "<div>\n",
       "<style scoped>\n",
       "    .dataframe tbody tr th:only-of-type {\n",
       "        vertical-align: middle;\n",
       "    }\n",
       "\n",
       "    .dataframe tbody tr th {\n",
       "        vertical-align: top;\n",
       "    }\n",
       "\n",
       "    .dataframe thead th {\n",
       "        text-align: right;\n",
       "    }\n",
       "</style>\n",
       "<table border=\"1\" class=\"dataframe\">\n",
       "  <thead>\n",
       "    <tr style=\"text-align: right;\">\n",
       "      <th></th>\n",
       "      <th>Target</th>\n",
       "    </tr>\n",
       "  </thead>\n",
       "  <tbody>\n",
       "    <tr>\n",
       "      <th>0</th>\n",
       "      <td>0</td>\n",
       "    </tr>\n",
       "    <tr>\n",
       "      <th>1</th>\n",
       "      <td>0</td>\n",
       "    </tr>\n",
       "    <tr>\n",
       "      <th>2</th>\n",
       "      <td>0</td>\n",
       "    </tr>\n",
       "    <tr>\n",
       "      <th>3</th>\n",
       "      <td>0</td>\n",
       "    </tr>\n",
       "    <tr>\n",
       "      <th>4</th>\n",
       "      <td>0</td>\n",
       "    </tr>\n",
       "  </tbody>\n",
       "</table>\n",
       "</div>"
      ],
      "text/plain": [
       "   Target\n",
       "0       0\n",
       "1       0\n",
       "2       0\n",
       "3       0\n",
       "4       0"
      ]
     },
     "execution_count": 10,
     "metadata": {},
     "output_type": "execute_result"
    }
   ],
   "source": [
    "y.head()"
   ]
  },
  {
   "cell_type": "markdown",
   "metadata": {
    "papermill": {
     "duration": 0.024446,
     "end_time": "2021-03-06T12:41:48.757811",
     "exception": false,
     "start_time": "2021-03-06T12:41:48.733365",
     "status": "completed"
    },
    "tags": []
   },
   "source": [
    "Step -: 4 - Model Training"
   ]
  },
  {
   "cell_type": "code",
   "execution_count": 11,
   "metadata": {
    "execution": {
     "iopub.execute_input": "2021-03-06T12:41:48.809895Z",
     "iopub.status.busy": "2021-03-06T12:41:48.809204Z",
     "iopub.status.idle": "2021-03-06T12:41:48.856342Z",
     "shell.execute_reply": "2021-03-06T12:41:48.856863Z"
    },
    "papermill": {
     "duration": 0.075547,
     "end_time": "2021-03-06T12:41:48.857058",
     "exception": false,
     "start_time": "2021-03-06T12:41:48.781511",
     "status": "completed"
    },
    "tags": []
   },
   "outputs": [
    {
     "data": {
      "text/plain": [
       "KMeans(n_clusters=3)"
      ]
     },
     "execution_count": 11,
     "metadata": {},
     "output_type": "execute_result"
    }
   ],
   "source": [
    "iris_k_mean_model = KMeans(n_clusters=3)\n",
    "iris_k_mean_model.fit(x)"
   ]
  },
  {
   "cell_type": "code",
   "execution_count": 12,
   "metadata": {
    "execution": {
     "iopub.execute_input": "2021-03-06T12:41:48.908696Z",
     "iopub.status.busy": "2021-03-06T12:41:48.907957Z",
     "iopub.status.idle": "2021-03-06T12:41:48.914160Z",
     "shell.execute_reply": "2021-03-06T12:41:48.914745Z"
    },
    "papermill": {
     "duration": 0.034042,
     "end_time": "2021-03-06T12:41:48.914912",
     "exception": false,
     "start_time": "2021-03-06T12:41:48.880870",
     "status": "completed"
    },
    "tags": []
   },
   "outputs": [
    {
     "name": "stdout",
     "output_type": "stream",
     "text": [
      "[1 1 1 1 1 1 1 1 1 1 1 1 1 1 1 1 1 1 1 1 1 1 1 1 1 1 1 1 1 1 1 1 1 1 1 1 1\n",
      " 1 1 1 1 1 1 1 1 1 1 1 1 1 0 0 2 0 0 0 0 0 0 0 0 0 0 0 0 0 0 0 0 0 0 0 0 0\n",
      " 0 0 0 2 0 0 0 0 0 0 0 0 0 0 0 0 0 0 0 0 0 0 0 0 0 0 2 0 2 2 2 2 0 2 2 2 2\n",
      " 2 2 0 0 2 2 2 2 0 2 0 2 0 2 2 0 0 2 2 2 2 2 0 2 2 2 2 0 2 2 2 0 2 2 2 0 2\n",
      " 2 0]\n"
     ]
    }
   ],
   "source": [
    "print(iris_k_mean_model.labels_)"
   ]
  },
  {
   "cell_type": "code",
   "execution_count": 13,
   "metadata": {
    "execution": {
     "iopub.execute_input": "2021-03-06T12:41:48.969854Z",
     "iopub.status.busy": "2021-03-06T12:41:48.969100Z",
     "iopub.status.idle": "2021-03-06T12:41:48.973957Z",
     "shell.execute_reply": "2021-03-06T12:41:48.972875Z"
    },
    "papermill": {
     "duration": 0.034877,
     "end_time": "2021-03-06T12:41:48.974140",
     "exception": false,
     "start_time": "2021-03-06T12:41:48.939263",
     "status": "completed"
    },
    "tags": []
   },
   "outputs": [
    {
     "name": "stdout",
     "output_type": "stream",
     "text": [
      "[[5.9016129  2.7483871  4.39354839 1.43387097]\n",
      " [5.006      3.428      1.462      0.246     ]\n",
      " [6.85       3.07368421 5.74210526 2.07105263]]\n"
     ]
    }
   ],
   "source": [
    "print(iris_k_mean_model.cluster_centers_)"
   ]
  },
  {
   "cell_type": "markdown",
   "metadata": {
    "papermill": {
     "duration": 0.025862,
     "end_time": "2021-03-06T12:41:49.025666",
     "exception": false,
     "start_time": "2021-03-06T12:41:48.999804",
     "status": "completed"
    },
    "tags": []
   },
   "source": [
    "Step -: 5 - Visualizing the Model Cluster****"
   ]
  },
  {
   "cell_type": "code",
   "execution_count": 14,
   "metadata": {
    "execution": {
     "iopub.execute_input": "2021-03-06T12:41:49.086005Z",
     "iopub.status.busy": "2021-03-06T12:41:49.083320Z",
     "iopub.status.idle": "2021-03-06T12:41:49.090728Z",
     "shell.execute_reply": "2021-03-06T12:41:49.091338Z"
    },
    "papermill": {
     "duration": 0.0406,
     "end_time": "2021-03-06T12:41:49.091508",
     "exception": false,
     "start_time": "2021-03-06T12:41:49.050908",
     "status": "completed"
    },
    "tags": []
   },
   "outputs": [
    {
     "data": {
      "text/plain": [
       "<Figure size 1008x432 with 0 Axes>"
      ]
     },
     "metadata": {},
     "output_type": "display_data"
    }
   ],
   "source": [
    "plt.figure(figsize=(14,6))\n",
    "\n",
    "colors = np.array(['red','green','blue'])\n",
    "\n",
    "predictedY = np.choose(iris_k_mean_model.labels_, [1,0,2]).astype(np.int64)\n"
   ]
  },
  {
   "cell_type": "code",
   "execution_count": 15,
   "metadata": {
    "execution": {
     "iopub.execute_input": "2021-03-06T12:41:49.168316Z",
     "iopub.status.busy": "2021-03-06T12:41:49.165311Z",
     "iopub.status.idle": "2021-03-06T12:41:49.334115Z",
     "shell.execute_reply": "2021-03-06T12:41:49.333492Z"
    },
    "papermill": {
     "duration": 0.208476,
     "end_time": "2021-03-06T12:41:49.334242",
     "exception": false,
     "start_time": "2021-03-06T12:41:49.125766",
     "status": "completed"
    },
    "tags": []
   },
   "outputs": [
    {
     "data": {
      "text/plain": [
       "Text(0.5, 1.0, 'Before classification')"
      ]
     },
     "execution_count": 15,
     "metadata": {},
     "output_type": "execute_result"
    },
    {
     "data": {
      "image/png": "[encoded data removed]",
      "text/plain": [
       "<Figure size 432x288 with 1 Axes>"
      ]
     },
     "metadata": {
      "needs_background": "light"
     },
     "output_type": "display_data"
    }
   ],
   "source": [
    "plt.subplot(1,2,1)\n",
    "plt.scatter(x['Petal length'], x['Petal width'], c=colors[y['Target']])\n",
    "plt.title('Before classification')\n",
    "\n",
    "\n"
   ]
  },
  {
   "cell_type": "code",
   "execution_count": 16,
   "metadata": {
    "execution": {
     "iopub.execute_input": "2021-03-06T12:41:49.402257Z",
     "iopub.status.busy": "2021-03-06T12:41:49.398648Z",
     "iopub.status.idle": "2021-03-06T12:41:49.543008Z",
     "shell.execute_reply": "2021-03-06T12:41:49.542469Z"
    },
    "papermill": {
     "duration": 0.182612,
     "end_time": "2021-03-06T12:41:49.543124",
     "exception": false,
     "start_time": "2021-03-06T12:41:49.360512",
     "status": "completed"
    },
    "tags": []
   },
   "outputs": [
    {
     "data": {
      "text/plain": [
       "Text(0.5, 1.0, \"Model's classification\")"
      ]
     },
     "execution_count": 16,
     "metadata": {},
     "output_type": "execute_result"
    },
    {
     "data": {
      "image/png": "[encoded data removed]",
      "text/plain": [
       "<Figure size 432x288 with 1 Axes>"
      ]
     },
     "metadata": {
      "needs_background": "light"
     },
     "output_type": "display_data"
    }
   ],
   "source": [
    "plt.subplot(1,2,2)\n",
    "plt.scatter(x['Petal length'], x['Petal width'], c=colors[predictedY])\n",
    "plt.title(\"Model's classification\")"
   ]
  },
  {
   "cell_type": "markdown",
   "metadata": {
    "papermill": {
     "duration": 0.027082,
     "end_time": "2021-03-06T12:41:49.597900",
     "exception": false,
     "start_time": "2021-03-06T12:41:49.570818",
     "status": "completed"
    },
    "tags": []
   },
   "source": [
    "Step -: 6 - calculating the Accuracy and Confusion Matrix****"
   ]
  },
  {
   "cell_type": "code",
   "execution_count": 17,
   "metadata": {
    "execution": {
     "iopub.execute_input": "2021-03-06T12:41:49.660157Z",
     "iopub.status.busy": "2021-03-06T12:41:49.659343Z",
     "iopub.status.idle": "2021-03-06T12:41:49.664678Z",
     "shell.execute_reply": "2021-03-06T12:41:49.663866Z"
    },
    "papermill": {
     "duration": 0.03943,
     "end_time": "2021-03-06T12:41:49.664830",
     "exception": false,
     "start_time": "2021-03-06T12:41:49.625400",
     "status": "completed"
    },
    "tags": []
   },
   "outputs": [
    {
     "data": {
      "text/plain": [
       "0.8933333333333333"
      ]
     },
     "execution_count": 17,
     "metadata": {},
     "output_type": "execute_result"
    }
   ],
   "source": [
    "sm.accuracy_score(predictedY , y['Target'])"
   ]
  },
  {
   "cell_type": "code",
   "execution_count": 18,
   "metadata": {
    "execution": {
     "iopub.execute_input": "2021-03-06T12:41:49.731305Z",
     "iopub.status.busy": "2021-03-06T12:41:49.730224Z",
     "iopub.status.idle": "2021-03-06T12:41:49.734594Z",
     "shell.execute_reply": "2021-03-06T12:41:49.735066Z"
    },
    "papermill": {
     "duration": 0.041443,
     "end_time": "2021-03-06T12:41:49.735241",
     "exception": false,
     "start_time": "2021-03-06T12:41:49.693798",
     "status": "completed"
    },
    "tags": []
   },
   "outputs": [
    {
     "data": {
      "text/plain": [
       "array([[50,  0,  0],\n",
       "       [ 0, 48, 14],\n",
       "       [ 0,  2, 36]])"
      ]
     },
     "execution_count": 18,
     "metadata": {},
     "output_type": "execute_result"
    }
   ],
   "source": [
    "sm.confusion_matrix(predictedY , y['Target'])"
   ]
  },
  {
   "cell_type": "markdown",
   "metadata": {
    "papermill": {
     "duration": 0.02925,
     "end_time": "2021-03-06T12:41:49.794828",
     "exception": false,
     "start_time": "2021-03-06T12:41:49.765578",
     "status": "completed"
    },
    "tags": []
   },
   "source": [
    "**Conclusion******\n",
    "  \n",
    "  I was able to successfully carry-out prediction using Unsupervised ML task and was able to evaluate the model's clustering accuracy score.\n",
    "\n",
    "\n",
    "> **Thank You******"
   ]
  }
 ],
 "metadata": {
  "kernelspec": {
   "display_name": "Python 3",
   "language": "python",
   "name": "python3"
  },
  "language_info": {
   "codemirror_mode": {
    "name": "ipython",
    "version": 3
   },
   "file_extension": ".py",
   "mimetype": "text/x-python",
   "name": "python",
   "nbconvert_exporter": "python",
   "pygments_lexer": "ipython3",
   "version": "3.7.6"
  },
  "papermill": {
   "duration": 9.119929,
   "end_time": "2021-03-06T12:41:49.933239",
   "environment_variables": {},
   "exception": null,
   "input_path": "__notebook__.ipynb",
   "output_path": "__notebook__.ipynb",
   "parameters": {},
   "start_time": "2021-03-06T12:41:40.813310",
   "version": "2.1.0"
  }
 },
 "nbformat": 4,
 "nbformat_minor": 4
}
