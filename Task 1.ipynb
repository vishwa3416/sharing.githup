{
 "cells": [
  {
   "cell_type": "markdown",
   "metadata": {
    "papermill": {
     "duration": 0.016485,
     "end_time": "2021-03-13T04:35:24.530464",
     "exception": false,
     "start_time": "2021-03-13T04:35:24.513979",
     "status": "completed"
    },
    "tags": []
   },
   "source": [
    "GRIP : The Sparks Foundation\n",
    "Data Science and Business Analytics Intern\n",
    "# Author : vishva patel\n",
    "\n",
    "# Task 1 : Prediction Using Supervised ML\n",
    "Problem Statement : Predict the perecentage of the student based on the no. of hours student studied using Simple Linear Regression model which involves two variables."
   ]
  },
  {
   "cell_type": "markdown",
   "metadata": {
    "papermill": {
     "duration": 0.014643,
     "end_time": "2021-03-13T04:35:24.560237",
     "exception": false,
     "start_time": "2021-03-13T04:35:24.545594",
     "status": "completed"
    },
    "tags": []
   },
   "source": [
    "# Importing Libraries"
   ]
  },
  {
   "cell_type": "code",
   "execution_count": 1,
   "metadata": {
    "execution": {
     "iopub.execute_input": "2021-03-13T04:35:24.593941Z",
     "iopub.status.busy": "2021-03-13T04:35:24.593333Z",
     "iopub.status.idle": "2021-03-13T04:35:24.600139Z",
     "shell.execute_reply": "2021-03-13T04:35:24.600828Z"
    },
    "papermill": {
     "duration": 0.02595,
     "end_time": "2021-03-13T04:35:24.601128",
     "exception": false,
     "start_time": "2021-03-13T04:35:24.575178",
     "status": "completed"
    },
    "tags": []
   },
   "outputs": [],
   "source": [
    "# Importing Libraries\n",
    "import numpy as np\n",
    "import pandas as pd\n",
    "%matplotlib inline\n",
    "import matplotlib.pyplot as plt\n"
   ]
  },
  {
   "cell_type": "markdown",
   "metadata": {
    "papermill": {
     "duration": 0.014712,
     "end_time": "2021-03-13T04:35:24.631116",
     "exception": false,
     "start_time": "2021-03-13T04:35:24.616404",
     "status": "completed"
    },
    "tags": []
   },
   "source": [
    "# Loading Dataset"
   ]
  },
  {
   "cell_type": "code",
   "execution_count": 2,
   "metadata": {
    "execution": {
     "iopub.execute_input": "2021-03-13T04:35:24.664708Z",
     "iopub.status.busy": "2021-03-13T04:35:24.664044Z",
     "iopub.status.idle": "2021-03-13T04:35:24.682291Z",
     "shell.execute_reply": "2021-03-13T04:35:24.682864Z"
    },
    "papermill": {
     "duration": 0.036894,
     "end_time": "2021-03-13T04:35:24.683066",
     "exception": false,
     "start_time": "2021-03-13T04:35:24.646172",
     "status": "completed"
    },
    "tags": []
   },
   "outputs": [],
   "source": [
    "# Loading Dataset\n",
    "df = pd.read_csv('../input/tsf-datasets/student_scores.csv')"
   ]
  },
  {
   "cell_type": "code",
   "execution_count": 3,
   "metadata": {
    "execution": {
     "iopub.execute_input": "2021-03-13T04:35:24.717650Z",
     "iopub.status.busy": "2021-03-13T04:35:24.717007Z",
     "iopub.status.idle": "2021-03-13T04:35:24.745486Z",
     "shell.execute_reply": "2021-03-13T04:35:24.744966Z"
    },
    "papermill": {
     "duration": 0.046973,
     "end_time": "2021-03-13T04:35:24.745632",
     "exception": false,
     "start_time": "2021-03-13T04:35:24.698659",
     "status": "completed"
    },
    "tags": []
   },
   "outputs": [
    {
     "data": {
      "text/html": [
       "<div>\n",
       "<style scoped>\n",
       "    .dataframe tbody tr th:only-of-type {\n",
       "        vertical-align: middle;\n",
       "    }\n",
       "\n",
       "    .dataframe tbody tr th {\n",
       "        vertical-align: top;\n",
       "    }\n",
       "\n",
       "    .dataframe thead th {\n",
       "        text-align: right;\n",
       "    }\n",
       "</style>\n",
       "<table border=\"1\" class=\"dataframe\">\n",
       "  <thead>\n",
       "    <tr style=\"text-align: right;\">\n",
       "      <th></th>\n",
       "      <th>Hours</th>\n",
       "      <th>Scores</th>\n",
       "    </tr>\n",
       "  </thead>\n",
       "  <tbody>\n",
       "    <tr>\n",
       "      <th>0</th>\n",
       "      <td>2.5</td>\n",
       "      <td>21</td>\n",
       "    </tr>\n",
       "    <tr>\n",
       "      <th>1</th>\n",
       "      <td>5.1</td>\n",
       "      <td>47</td>\n",
       "    </tr>\n",
       "    <tr>\n",
       "      <th>2</th>\n",
       "      <td>3.2</td>\n",
       "      <td>27</td>\n",
       "    </tr>\n",
       "    <tr>\n",
       "      <th>3</th>\n",
       "      <td>8.5</td>\n",
       "      <td>75</td>\n",
       "    </tr>\n",
       "    <tr>\n",
       "      <th>4</th>\n",
       "      <td>3.5</td>\n",
       "      <td>30</td>\n",
       "    </tr>\n",
       "  </tbody>\n",
       "</table>\n",
       "</div>"
      ],
      "text/plain": [
       "   Hours  Scores\n",
       "0    2.5      21\n",
       "1    5.1      47\n",
       "2    3.2      27\n",
       "3    8.5      75\n",
       "4    3.5      30"
      ]
     },
     "execution_count": 3,
     "metadata": {},
     "output_type": "execute_result"
    }
   ],
   "source": [
    "df.head()"
   ]
  },
  {
   "cell_type": "code",
   "execution_count": 4,
   "metadata": {
    "execution": {
     "iopub.execute_input": "2021-03-13T04:35:24.789628Z",
     "iopub.status.busy": "2021-03-13T04:35:24.788875Z",
     "iopub.status.idle": "2021-03-13T04:35:24.802182Z",
     "shell.execute_reply": "2021-03-13T04:35:24.802772Z"
    },
    "papermill": {
     "duration": 0.041036,
     "end_time": "2021-03-13T04:35:24.802941",
     "exception": false,
     "start_time": "2021-03-13T04:35:24.761905",
     "status": "completed"
    },
    "tags": []
   },
   "outputs": [
    {
     "data": {
      "text/html": [
       "<div>\n",
       "<style scoped>\n",
       "    .dataframe tbody tr th:only-of-type {\n",
       "        vertical-align: middle;\n",
       "    }\n",
       "\n",
       "    .dataframe tbody tr th {\n",
       "        vertical-align: top;\n",
       "    }\n",
       "\n",
       "    .dataframe thead th {\n",
       "        text-align: right;\n",
       "    }\n",
       "</style>\n",
       "<table border=\"1\" class=\"dataframe\">\n",
       "  <thead>\n",
       "    <tr style=\"text-align: right;\">\n",
       "      <th></th>\n",
       "      <th>Hours</th>\n",
       "      <th>Scores</th>\n",
       "    </tr>\n",
       "  </thead>\n",
       "  <tbody>\n",
       "    <tr>\n",
       "      <th>count</th>\n",
       "      <td>25.000000</td>\n",
       "      <td>25.000000</td>\n",
       "    </tr>\n",
       "    <tr>\n",
       "      <th>mean</th>\n",
       "      <td>5.012000</td>\n",
       "      <td>51.480000</td>\n",
       "    </tr>\n",
       "    <tr>\n",
       "      <th>std</th>\n",
       "      <td>2.525094</td>\n",
       "      <td>25.286887</td>\n",
       "    </tr>\n",
       "    <tr>\n",
       "      <th>min</th>\n",
       "      <td>1.100000</td>\n",
       "      <td>17.000000</td>\n",
       "    </tr>\n",
       "    <tr>\n",
       "      <th>25%</th>\n",
       "      <td>2.700000</td>\n",
       "      <td>30.000000</td>\n",
       "    </tr>\n",
       "    <tr>\n",
       "      <th>50%</th>\n",
       "      <td>4.800000</td>\n",
       "      <td>47.000000</td>\n",
       "    </tr>\n",
       "    <tr>\n",
       "      <th>75%</th>\n",
       "      <td>7.400000</td>\n",
       "      <td>75.000000</td>\n",
       "    </tr>\n",
       "    <tr>\n",
       "      <th>max</th>\n",
       "      <td>9.200000</td>\n",
       "      <td>95.000000</td>\n",
       "    </tr>\n",
       "  </tbody>\n",
       "</table>\n",
       "</div>"
      ],
      "text/plain": [
       "           Hours     Scores\n",
       "count  25.000000  25.000000\n",
       "mean    5.012000  51.480000\n",
       "std     2.525094  25.286887\n",
       "min     1.100000  17.000000\n",
       "25%     2.700000  30.000000\n",
       "50%     4.800000  47.000000\n",
       "75%     7.400000  75.000000\n",
       "max     9.200000  95.000000"
      ]
     },
     "execution_count": 4,
     "metadata": {},
     "output_type": "execute_result"
    }
   ],
   "source": [
    "df.describe()"
   ]
  },
  {
   "cell_type": "markdown",
   "metadata": {
    "papermill": {
     "duration": 0.016211,
     "end_time": "2021-03-13T04:35:24.835766",
     "exception": false,
     "start_time": "2021-03-13T04:35:24.819555",
     "status": "completed"
    },
    "tags": []
   },
   "source": [
    "# Checking for Null values in the dataset"
   ]
  },
  {
   "cell_type": "code",
   "execution_count": 5,
   "metadata": {
    "execution": {
     "iopub.execute_input": "2021-03-13T04:35:24.879335Z",
     "iopub.status.busy": "2021-03-13T04:35:24.878351Z",
     "iopub.status.idle": "2021-03-13T04:35:24.883070Z",
     "shell.execute_reply": "2021-03-13T04:35:24.882502Z"
    },
    "papermill": {
     "duration": 0.029703,
     "end_time": "2021-03-13T04:35:24.883234",
     "exception": false,
     "start_time": "2021-03-13T04:35:24.853531",
     "status": "completed"
    },
    "tags": []
   },
   "outputs": [
    {
     "data": {
      "text/plain": [
       "Hours     0\n",
       "Scores    0\n",
       "dtype: int64"
      ]
     },
     "execution_count": 5,
     "metadata": {},
     "output_type": "execute_result"
    }
   ],
   "source": [
    "df.isnull().sum()"
   ]
  },
  {
   "cell_type": "markdown",
   "metadata": {
    "papermill": {
     "duration": 0.016945,
     "end_time": "2021-03-13T04:35:24.917283",
     "exception": false,
     "start_time": "2021-03-13T04:35:24.900338",
     "status": "completed"
    },
    "tags": []
   },
   "source": [
    "# Plotting the score distribution"
   ]
  },
  {
   "cell_type": "code",
   "execution_count": 6,
   "metadata": {
    "execution": {
     "iopub.execute_input": "2021-03-13T04:35:24.974360Z",
     "iopub.status.busy": "2021-03-13T04:35:24.973214Z",
     "iopub.status.idle": "2021-03-13T04:35:25.173716Z",
     "shell.execute_reply": "2021-03-13T04:35:25.174184Z"
    },
    "papermill": {
     "duration": 0.239818,
     "end_time": "2021-03-13T04:35:25.174389",
     "exception": false,
     "start_time": "2021-03-13T04:35:24.934571",
     "status": "completed"
    },
    "tags": []
   },
   "outputs": [
    {
     "data": {
      "image/png": "[encoded data removed]",
      "text/plain": [
       "<Figure size 432x288 with 1 Axes>"
      ]
     },
     "metadata": {
      "needs_background": "light"
     },
     "output_type": "display_data"
    }
   ],
   "source": [
    "plt.scatter(df['Hours'], df['Scores'], color = 'red')\n",
    "plt.title('Hours vs Percentage(%)')\n",
    "plt.xlabel('Hours Studied')\n",
    "plt.ylabel(\"Percentage Score(%)\")\n",
    "plt.show()\n"
   ]
  },
  {
   "cell_type": "markdown",
   "metadata": {
    "papermill": {
     "duration": 0.017653,
     "end_time": "2021-03-13T04:35:25.210219",
     "exception": false,
     "start_time": "2021-03-13T04:35:25.192566",
     "status": "completed"
    },
    "tags": []
   },
   "source": [
    "# Preparing the data for Training"
   ]
  },
  {
   "cell_type": "code",
   "execution_count": 7,
   "metadata": {
    "execution": {
     "iopub.execute_input": "2021-03-13T04:35:25.250087Z",
     "iopub.status.busy": "2021-03-13T04:35:25.249456Z",
     "iopub.status.idle": "2021-03-13T04:35:25.254199Z",
     "shell.execute_reply": "2021-03-13T04:35:25.254777Z"
    },
    "papermill": {
     "duration": 0.026671,
     "end_time": "2021-03-13T04:35:25.254973",
     "exception": false,
     "start_time": "2021-03-13T04:35:25.228302",
     "status": "completed"
    },
    "tags": []
   },
   "outputs": [],
   "source": [
    "x = df.iloc[:, :-1].values\n",
    "y = df.iloc[:, 1].values\n"
   ]
  },
  {
   "cell_type": "markdown",
   "metadata": {
    "papermill": {
     "duration": 0.017714,
     "end_time": "2021-03-13T04:35:25.290787",
     "exception": false,
     "start_time": "2021-03-13T04:35:25.273073",
     "status": "completed"
    },
    "tags": []
   },
   "source": [
    "# Splitting Data into Training and Testing sets"
   ]
  },
  {
   "cell_type": "code",
   "execution_count": 8,
   "metadata": {
    "execution": {
     "iopub.execute_input": "2021-03-13T04:35:25.331099Z",
     "iopub.status.busy": "2021-03-13T04:35:25.330420Z",
     "iopub.status.idle": "2021-03-13T04:35:26.465247Z",
     "shell.execute_reply": "2021-03-13T04:35:26.465843Z"
    },
    "papermill": {
     "duration": 1.156925,
     "end_time": "2021-03-13T04:35:26.466075",
     "exception": false,
     "start_time": "2021-03-13T04:35:25.309150",
     "status": "completed"
    },
    "tags": []
   },
   "outputs": [],
   "source": [
    "from sklearn.model_selection import train_test_split\n",
    "x_train, x_test, y_train, y_test = train_test_split(x, y, test_size = 0.25, random_state = 0)\n"
   ]
  },
  {
   "cell_type": "markdown",
   "metadata": {
    "papermill": {
     "duration": 0.018225,
     "end_time": "2021-03-13T04:35:26.503596",
     "exception": false,
     "start_time": "2021-03-13T04:35:26.485371",
     "status": "completed"
    },
    "tags": []
   },
   "source": [
    "# Training the Model"
   ]
  },
  {
   "cell_type": "code",
   "execution_count": 9,
   "metadata": {
    "execution": {
     "iopub.execute_input": "2021-03-13T04:35:26.545557Z",
     "iopub.status.busy": "2021-03-13T04:35:26.544890Z",
     "iopub.status.idle": "2021-03-13T04:35:26.647505Z",
     "shell.execute_reply": "2021-03-13T04:35:26.648058Z"
    },
    "papermill": {
     "duration": 0.126176,
     "end_time": "2021-03-13T04:35:26.648276",
     "exception": false,
     "start_time": "2021-03-13T04:35:26.522100",
     "status": "completed"
    },
    "tags": []
   },
   "outputs": [
    {
     "name": "stdout",
     "output_type": "stream",
     "text": [
      "Model Trained!\n"
     ]
    }
   ],
   "source": [
    "from sklearn.linear_model import LinearRegression\n",
    "model = LinearRegression()\n",
    "model.fit(x_train, y_train)\n",
    "print(\"Model Trained!\")\n"
   ]
  },
  {
   "cell_type": "markdown",
   "metadata": {
    "papermill": {
     "duration": 0.018076,
     "end_time": "2021-03-13T04:35:26.685639",
     "exception": false,
     "start_time": "2021-03-13T04:35:26.667563",
     "status": "completed"
    },
    "tags": []
   },
   "source": [
    "# Plotting the Regression Line"
   ]
  },
  {
   "cell_type": "code",
   "execution_count": 10,
   "metadata": {
    "execution": {
     "iopub.execute_input": "2021-03-13T04:35:26.749567Z",
     "iopub.status.busy": "2021-03-13T04:35:26.748460Z",
     "iopub.status.idle": "2021-03-13T04:35:26.882929Z",
     "shell.execute_reply": "2021-03-13T04:35:26.883396Z"
    },
    "papermill": {
     "duration": 0.179618,
     "end_time": "2021-03-13T04:35:26.883627",
     "exception": false,
     "start_time": "2021-03-13T04:35:26.704009",
     "status": "completed"
    },
    "tags": []
   },
   "outputs": [
    {
     "data": {
      "image/png": "[encoded data removed]",
      "text/plain": [
       "<Figure size 432x288 with 1 Axes>"
      ]
     },
     "metadata": {
      "needs_background": "light"
     },
     "output_type": "display_data"
    }
   ],
   "source": [
    "line = model.coef_*x + model.intercept_\n",
    "plt.scatter(x, y, color = 'red')\n",
    "plt.plot(x, line)\n",
    "plt.show()\n"
   ]
  },
  {
   "cell_type": "markdown",
   "metadata": {
    "papermill": {
     "duration": 0.020117,
     "end_time": "2021-03-13T04:35:26.923335",
     "exception": false,
     "start_time": "2021-03-13T04:35:26.903218",
     "status": "completed"
    },
    "tags": []
   },
   "source": [
    "# Making Predictions"
   ]
  },
  {
   "cell_type": "code",
   "execution_count": 11,
   "metadata": {
    "execution": {
     "iopub.execute_input": "2021-03-13T04:35:26.967259Z",
     "iopub.status.busy": "2021-03-13T04:35:26.966264Z",
     "iopub.status.idle": "2021-03-13T04:35:26.973426Z",
     "shell.execute_reply": "2021-03-13T04:35:26.974084Z"
    },
    "papermill": {
     "duration": 0.031192,
     "end_time": "2021-03-13T04:35:26.974280",
     "exception": false,
     "start_time": "2021-03-13T04:35:26.943088",
     "status": "completed"
    },
    "tags": []
   },
   "outputs": [
    {
     "name": "stdout",
     "output_type": "stream",
     "text": [
      "[[1.5]\n",
      " [3.2]\n",
      " [7.4]\n",
      " [2.5]\n",
      " [5.9]\n",
      " [3.8]\n",
      " [1.9]]\n"
     ]
    }
   ],
   "source": [
    "print(x_test)\n",
    "y_pred = model.predict(x_test)\n"
   ]
  },
  {
   "cell_type": "markdown",
   "metadata": {
    "papermill": {
     "duration": 0.019669,
     "end_time": "2021-03-13T04:35:27.013979",
     "exception": false,
     "start_time": "2021-03-13T04:35:26.994310",
     "status": "completed"
    },
    "tags": []
   },
   "source": [
    "# Actual vs Predicted data Comparison"
   ]
  },
  {
   "cell_type": "code",
   "execution_count": 12,
   "metadata": {
    "execution": {
     "iopub.execute_input": "2021-03-13T04:35:27.066341Z",
     "iopub.status.busy": "2021-03-13T04:35:27.065587Z",
     "iopub.status.idle": "2021-03-13T04:35:27.071000Z",
     "shell.execute_reply": "2021-03-13T04:35:27.070269Z"
    },
    "papermill": {
     "duration": 0.036902,
     "end_time": "2021-03-13T04:35:27.071165",
     "exception": false,
     "start_time": "2021-03-13T04:35:27.034263",
     "status": "completed"
    },
    "tags": []
   },
   "outputs": [
    {
     "data": {
      "text/html": [
       "<div>\n",
       "<style scoped>\n",
       "    .dataframe tbody tr th:only-of-type {\n",
       "        vertical-align: middle;\n",
       "    }\n",
       "\n",
       "    .dataframe tbody tr th {\n",
       "        vertical-align: top;\n",
       "    }\n",
       "\n",
       "    .dataframe thead th {\n",
       "        text-align: right;\n",
       "    }\n",
       "</style>\n",
       "<table border=\"1\" class=\"dataframe\">\n",
       "  <thead>\n",
       "    <tr style=\"text-align: right;\">\n",
       "      <th></th>\n",
       "      <th>Actual</th>\n",
       "      <th>Predicted</th>\n",
       "    </tr>\n",
       "  </thead>\n",
       "  <tbody>\n",
       "    <tr>\n",
       "      <th>0</th>\n",
       "      <td>20</td>\n",
       "      <td>16.844722</td>\n",
       "    </tr>\n",
       "    <tr>\n",
       "      <th>1</th>\n",
       "      <td>27</td>\n",
       "      <td>33.745575</td>\n",
       "    </tr>\n",
       "    <tr>\n",
       "      <th>2</th>\n",
       "      <td>69</td>\n",
       "      <td>75.500624</td>\n",
       "    </tr>\n",
       "    <tr>\n",
       "      <th>3</th>\n",
       "      <td>30</td>\n",
       "      <td>26.786400</td>\n",
       "    </tr>\n",
       "    <tr>\n",
       "      <th>4</th>\n",
       "      <td>62</td>\n",
       "      <td>60.588106</td>\n",
       "    </tr>\n",
       "    <tr>\n",
       "      <th>5</th>\n",
       "      <td>35</td>\n",
       "      <td>39.710582</td>\n",
       "    </tr>\n",
       "    <tr>\n",
       "      <th>6</th>\n",
       "      <td>24</td>\n",
       "      <td>20.821393</td>\n",
       "    </tr>\n",
       "  </tbody>\n",
       "</table>\n",
       "</div>"
      ],
      "text/plain": [
       "   Actual  Predicted\n",
       "0      20  16.844722\n",
       "1      27  33.745575\n",
       "2      69  75.500624\n",
       "3      30  26.786400\n",
       "4      62  60.588106\n",
       "5      35  39.710582\n",
       "6      24  20.821393"
      ]
     },
     "execution_count": 12,
     "metadata": {},
     "output_type": "execute_result"
    }
   ],
   "source": [
    "df1 = pd.DataFrame({'Actual' : y_test, 'Predicted' : y_pred})\n",
    "df1\n"
   ]
  },
  {
   "cell_type": "markdown",
   "metadata": {
    "papermill": {
     "duration": 0.020158,
     "end_time": "2021-03-13T04:35:27.112101",
     "exception": false,
     "start_time": "2021-03-13T04:35:27.091943",
     "status": "completed"
    },
    "tags": []
   },
   "source": [
    "# Testing the model with Custom data"
   ]
  },
  {
   "cell_type": "code",
   "execution_count": 13,
   "metadata": {
    "execution": {
     "iopub.execute_input": "2021-03-13T04:35:27.158856Z",
     "iopub.status.busy": "2021-03-13T04:35:27.158135Z",
     "iopub.status.idle": "2021-03-13T04:35:27.162135Z",
     "shell.execute_reply": "2021-03-13T04:35:27.162706Z"
    },
    "papermill": {
     "duration": 0.03045,
     "end_time": "2021-03-13T04:35:27.162870",
     "exception": false,
     "start_time": "2021-03-13T04:35:27.132420",
     "status": "completed"
    },
    "tags": []
   },
   "outputs": [
    {
     "name": "stdout",
     "output_type": "stream",
     "text": [
      "No. of Hours = [[3.7]]\n",
      "Predicted Score = 38.71641410925761\n"
     ]
    }
   ],
   "source": [
    "\n",
    "hrs = [[3.7]]\n",
    "predict = model.predict(hrs)\n",
    "print(\"No. of Hours = {}\".format(hrs))\n",
    "print(\"Predicted Score = {}\".format(predict[0]))\n"
   ]
  },
  {
   "cell_type": "markdown",
   "metadata": {
    "papermill": {
     "duration": 0.020343,
     "end_time": "2021-03-13T04:35:27.204018",
     "exception": false,
     "start_time": "2021-03-13T04:35:27.183675",
     "status": "completed"
    },
    "tags": []
   },
   "source": [
    "# Evaluating the model using Error Parameters"
   ]
  },
  {
   "cell_type": "code",
   "execution_count": 14,
   "metadata": {
    "execution": {
     "iopub.execute_input": "2021-03-13T04:35:27.253948Z",
     "iopub.status.busy": "2021-03-13T04:35:27.252941Z",
     "iopub.status.idle": "2021-03-13T04:35:27.257925Z",
     "shell.execute_reply": "2021-03-13T04:35:27.257229Z"
    },
    "papermill": {
     "duration": 0.033606,
     "end_time": "2021-03-13T04:35:27.258077",
     "exception": false,
     "start_time": "2021-03-13T04:35:27.224471",
     "status": "completed"
    },
    "tags": []
   },
   "outputs": [
    {
     "name": "stdout",
     "output_type": "stream",
     "text": [
      "Mean Absolute Error(MAE) : 4.130879918502482\n",
      "Mean Squared Error(MSE) : 20.33292367497996\n",
      "Root Mean Squared Error(RMSE) : 4.509204328368805\n"
     ]
    }
   ],
   "source": [
    "from sklearn import metrics\n",
    "print('Mean Absolute Error(MAE) :', metrics.mean_absolute_error(y_test, y_pred))\n",
    "print('Mean Squared Error(MSE) :', metrics.mean_squared_error(y_test, y_pred))\n",
    "print('Root Mean Squared Error(RMSE) :', np.sqrt(metrics.mean_squared_error(y_test, y_pred)))\n"
   ]
  },
  {
   "cell_type": "markdown",
   "metadata": {
    "papermill": {
     "duration": 0.020938,
     "end_time": "2021-03-13T04:35:27.300649",
     "exception": false,
     "start_time": "2021-03-13T04:35:27.279711",
     "status": "completed"
    },
    "tags": []
   },
   "source": [
    "# What will be predicted score if a student study for 9.25 hrs in a day?"
   ]
  },
  {
   "cell_type": "code",
   "execution_count": 15,
   "metadata": {
    "execution": {
     "iopub.execute_input": "2021-03-13T04:35:27.350631Z",
     "iopub.status.busy": "2021-03-13T04:35:27.349786Z",
     "iopub.status.idle": "2021-03-13T04:35:27.354062Z",
     "shell.execute_reply": "2021-03-13T04:35:27.353397Z"
    },
    "papermill": {
     "duration": 0.032455,
     "end_time": "2021-03-13T04:35:27.354200",
     "exception": false,
     "start_time": "2021-03-13T04:35:27.321745",
     "status": "completed"
    },
    "tags": []
   },
   "outputs": [
    {
     "name": "stdout",
     "output_type": "stream",
     "text": [
      "No of Hours = 9.25\n",
      "Predicted Score = 93.89272889341652\n"
     ]
    }
   ],
   "source": [
    "# Testting the model to redict the percentage of student if he studies for 9.25 hours as given\n",
    "hours = 9.25\n",
    "pred = model.predict(np.array(hours).reshape(-1,1))\n",
    "print(\"No of Hours = {}\".format(hours))\n",
    "print(\"Predicted Score = {}\".format(pred[0]))"
   ]
  }
 ],
 "metadata": {
  "kernelspec": {
   "display_name": "Python 3",
   "language": "python",
   "name": "python3"
  },
  "language_info": {
   "codemirror_mode": {
    "name": "ipython",
    "version": 3
   },
   "file_extension": ".py",
   "mimetype": "text/x-python",
   "name": "python",
   "nbconvert_exporter": "python",
   "pygments_lexer": "ipython3",
   "version": "3.7.9"
  },
  "papermill": {
   "default_parameters": {},
   "duration": 9.73349,
   "end_time": "2021-03-13T04:35:28.290169",
   "environment_variables": {},
   "exception": null,
   "input_path": "__notebook__.ipynb",
   "output_path": "__notebook__.ipynb",
   "parameters": {},
   "start_time": "2021-03-13T04:35:18.556679",
   "version": "2.2.2"
  }
 },
 "nbformat": 4,
 "nbformat_minor": 4
}
